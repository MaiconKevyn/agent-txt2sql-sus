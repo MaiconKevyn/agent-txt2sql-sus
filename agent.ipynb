{
 "cells": [
  {
   "metadata": {},
   "cell_type": "markdown",
   "source": "# Testando DB",
   "id": "a453db40e294cee5"
  },
  {
   "metadata": {
    "ExecuteTime": {
     "end_time": "2025-05-29T12:16:13.117493Z",
     "start_time": "2025-05-29T12:16:12.430361Z"
    }
   },
   "cell_type": "code",
   "source": "!pip install langchain_community",
   "id": "5fd2e907bd23ca0",
   "outputs": [
    {
     "name": "stdout",
     "output_type": "stream",
     "text": [
      "/bin/bash: warning: setlocale: LC_ALL: cannot change locale (en_US.UTF-8)\r\n",
      "Requirement already satisfied: langchain_community in /home/maiconkevyn/PycharmProjects/chatbot-pysus/.venv/lib/python3.11/site-packages (0.3.24)\r\n",
      "Requirement already satisfied: langchain-core<1.0.0,>=0.3.59 in /home/maiconkevyn/PycharmProjects/chatbot-pysus/.venv/lib/python3.11/site-packages (from langchain_community) (0.3.59)\r\n",
      "Requirement already satisfied: langchain<1.0.0,>=0.3.25 in /home/maiconkevyn/PycharmProjects/chatbot-pysus/.venv/lib/python3.11/site-packages (from langchain_community) (0.3.25)\r\n",
      "Requirement already satisfied: SQLAlchemy<3,>=1.4 in /home/maiconkevyn/PycharmProjects/chatbot-pysus/.venv/lib/python3.11/site-packages (from langchain_community) (2.0.41)\r\n",
      "Requirement already satisfied: requests<3,>=2 in /home/maiconkevyn/PycharmProjects/chatbot-pysus/.venv/lib/python3.11/site-packages (from langchain_community) (2.32.3)\r\n",
      "Requirement already satisfied: PyYAML>=5.3 in /home/maiconkevyn/PycharmProjects/chatbot-pysus/.venv/lib/python3.11/site-packages (from langchain_community) (6.0.2)\r\n",
      "Requirement already satisfied: aiohttp<4.0.0,>=3.8.3 in /home/maiconkevyn/PycharmProjects/chatbot-pysus/.venv/lib/python3.11/site-packages (from langchain_community) (3.11.18)\r\n",
      "Requirement already satisfied: tenacity!=8.4.0,<10,>=8.1.0 in /home/maiconkevyn/PycharmProjects/chatbot-pysus/.venv/lib/python3.11/site-packages (from langchain_community) (9.1.2)\r\n",
      "Requirement already satisfied: dataclasses-json<0.7,>=0.5.7 in /home/maiconkevyn/PycharmProjects/chatbot-pysus/.venv/lib/python3.11/site-packages (from langchain_community) (0.6.7)\r\n",
      "Requirement already satisfied: pydantic-settings<3.0.0,>=2.4.0 in /home/maiconkevyn/PycharmProjects/chatbot-pysus/.venv/lib/python3.11/site-packages (from langchain_community) (2.9.1)\r\n",
      "Requirement already satisfied: langsmith<0.4,>=0.1.125 in /home/maiconkevyn/PycharmProjects/chatbot-pysus/.venv/lib/python3.11/site-packages (from langchain_community) (0.3.42)\r\n",
      "Requirement already satisfied: httpx-sse<1.0.0,>=0.4.0 in /home/maiconkevyn/PycharmProjects/chatbot-pysus/.venv/lib/python3.11/site-packages (from langchain_community) (0.4.0)\r\n",
      "Requirement already satisfied: numpy>=1.26.2 in /home/maiconkevyn/PycharmProjects/chatbot-pysus/.venv/lib/python3.11/site-packages (from langchain_community) (2.2.5)\r\n",
      "Requirement already satisfied: aiohappyeyeballs>=2.3.0 in /home/maiconkevyn/PycharmProjects/chatbot-pysus/.venv/lib/python3.11/site-packages (from aiohttp<4.0.0,>=3.8.3->langchain_community) (2.6.1)\r\n",
      "Requirement already satisfied: aiosignal>=1.1.2 in /home/maiconkevyn/PycharmProjects/chatbot-pysus/.venv/lib/python3.11/site-packages (from aiohttp<4.0.0,>=3.8.3->langchain_community) (1.3.2)\r\n",
      "Requirement already satisfied: attrs>=17.3.0 in /home/maiconkevyn/PycharmProjects/chatbot-pysus/.venv/lib/python3.11/site-packages (from aiohttp<4.0.0,>=3.8.3->langchain_community) (25.3.0)\r\n",
      "Requirement already satisfied: frozenlist>=1.1.1 in /home/maiconkevyn/PycharmProjects/chatbot-pysus/.venv/lib/python3.11/site-packages (from aiohttp<4.0.0,>=3.8.3->langchain_community) (1.6.0)\r\n",
      "Requirement already satisfied: multidict<7.0,>=4.5 in /home/maiconkevyn/PycharmProjects/chatbot-pysus/.venv/lib/python3.11/site-packages (from aiohttp<4.0.0,>=3.8.3->langchain_community) (6.4.3)\r\n",
      "Requirement already satisfied: propcache>=0.2.0 in /home/maiconkevyn/PycharmProjects/chatbot-pysus/.venv/lib/python3.11/site-packages (from aiohttp<4.0.0,>=3.8.3->langchain_community) (0.3.1)\r\n",
      "Requirement already satisfied: yarl<2.0,>=1.17.0 in /home/maiconkevyn/PycharmProjects/chatbot-pysus/.venv/lib/python3.11/site-packages (from aiohttp<4.0.0,>=3.8.3->langchain_community) (1.20.0)\r\n",
      "Requirement already satisfied: marshmallow<4.0.0,>=3.18.0 in /home/maiconkevyn/PycharmProjects/chatbot-pysus/.venv/lib/python3.11/site-packages (from dataclasses-json<0.7,>=0.5.7->langchain_community) (3.26.1)\r\n",
      "Requirement already satisfied: typing-inspect<1,>=0.4.0 in /home/maiconkevyn/PycharmProjects/chatbot-pysus/.venv/lib/python3.11/site-packages (from dataclasses-json<0.7,>=0.5.7->langchain_community) (0.9.0)\r\n",
      "Requirement already satisfied: langchain-text-splitters<1.0.0,>=0.3.8 in /home/maiconkevyn/PycharmProjects/chatbot-pysus/.venv/lib/python3.11/site-packages (from langchain<1.0.0,>=0.3.25->langchain_community) (0.3.8)\r\n",
      "Requirement already satisfied: pydantic<3.0.0,>=2.7.4 in /home/maiconkevyn/PycharmProjects/chatbot-pysus/.venv/lib/python3.11/site-packages (from langchain<1.0.0,>=0.3.25->langchain_community) (2.11.4)\r\n",
      "Requirement already satisfied: jsonpatch<2.0,>=1.33 in /home/maiconkevyn/PycharmProjects/chatbot-pysus/.venv/lib/python3.11/site-packages (from langchain-core<1.0.0,>=0.3.59->langchain_community) (1.33)\r\n",
      "Requirement already satisfied: packaging<25,>=23.2 in /home/maiconkevyn/PycharmProjects/chatbot-pysus/.venv/lib/python3.11/site-packages (from langchain-core<1.0.0,>=0.3.59->langchain_community) (24.2)\r\n",
      "Requirement already satisfied: typing-extensions>=4.7 in /home/maiconkevyn/PycharmProjects/chatbot-pysus/.venv/lib/python3.11/site-packages (from langchain-core<1.0.0,>=0.3.59->langchain_community) (4.13.2)\r\n",
      "Requirement already satisfied: jsonpointer>=1.9 in /home/maiconkevyn/PycharmProjects/chatbot-pysus/.venv/lib/python3.11/site-packages (from jsonpatch<2.0,>=1.33->langchain-core<1.0.0,>=0.3.59->langchain_community) (3.0.0)\r\n",
      "Requirement already satisfied: httpx<1,>=0.23.0 in /home/maiconkevyn/PycharmProjects/chatbot-pysus/.venv/lib/python3.11/site-packages (from langsmith<0.4,>=0.1.125->langchain_community) (0.28.1)\r\n",
      "Requirement already satisfied: orjson<4.0.0,>=3.9.14 in /home/maiconkevyn/PycharmProjects/chatbot-pysus/.venv/lib/python3.11/site-packages (from langsmith<0.4,>=0.1.125->langchain_community) (3.10.18)\r\n",
      "Requirement already satisfied: requests-toolbelt<2.0.0,>=1.0.0 in /home/maiconkevyn/PycharmProjects/chatbot-pysus/.venv/lib/python3.11/site-packages (from langsmith<0.4,>=0.1.125->langchain_community) (1.0.0)\r\n",
      "Requirement already satisfied: zstandard<0.24.0,>=0.23.0 in /home/maiconkevyn/PycharmProjects/chatbot-pysus/.venv/lib/python3.11/site-packages (from langsmith<0.4,>=0.1.125->langchain_community) (0.23.0)\r\n",
      "Requirement already satisfied: anyio in /home/maiconkevyn/PycharmProjects/chatbot-pysus/.venv/lib/python3.11/site-packages (from httpx<1,>=0.23.0->langsmith<0.4,>=0.1.125->langchain_community) (4.9.0)\r\n",
      "Requirement already satisfied: certifi in /home/maiconkevyn/PycharmProjects/chatbot-pysus/.venv/lib/python3.11/site-packages (from httpx<1,>=0.23.0->langsmith<0.4,>=0.1.125->langchain_community) (2025.4.26)\r\n",
      "Requirement already satisfied: httpcore==1.* in /home/maiconkevyn/PycharmProjects/chatbot-pysus/.venv/lib/python3.11/site-packages (from httpx<1,>=0.23.0->langsmith<0.4,>=0.1.125->langchain_community) (1.0.9)\r\n",
      "Requirement already satisfied: idna in /home/maiconkevyn/PycharmProjects/chatbot-pysus/.venv/lib/python3.11/site-packages (from httpx<1,>=0.23.0->langsmith<0.4,>=0.1.125->langchain_community) (3.10)\r\n",
      "Requirement already satisfied: h11>=0.16 in /home/maiconkevyn/PycharmProjects/chatbot-pysus/.venv/lib/python3.11/site-packages (from httpcore==1.*->httpx<1,>=0.23.0->langsmith<0.4,>=0.1.125->langchain_community) (0.16.0)\r\n",
      "Requirement already satisfied: annotated-types>=0.6.0 in /home/maiconkevyn/PycharmProjects/chatbot-pysus/.venv/lib/python3.11/site-packages (from pydantic<3.0.0,>=2.7.4->langchain<1.0.0,>=0.3.25->langchain_community) (0.7.0)\r\n",
      "Requirement already satisfied: pydantic-core==2.33.2 in /home/maiconkevyn/PycharmProjects/chatbot-pysus/.venv/lib/python3.11/site-packages (from pydantic<3.0.0,>=2.7.4->langchain<1.0.0,>=0.3.25->langchain_community) (2.33.2)\r\n",
      "Requirement already satisfied: typing-inspection>=0.4.0 in /home/maiconkevyn/PycharmProjects/chatbot-pysus/.venv/lib/python3.11/site-packages (from pydantic<3.0.0,>=2.7.4->langchain<1.0.0,>=0.3.25->langchain_community) (0.4.0)\r\n",
      "Requirement already satisfied: python-dotenv>=0.21.0 in /home/maiconkevyn/PycharmProjects/chatbot-pysus/.venv/lib/python3.11/site-packages (from pydantic-settings<3.0.0,>=2.4.0->langchain_community) (1.1.0)\r\n",
      "Requirement already satisfied: charset-normalizer<4,>=2 in /home/maiconkevyn/PycharmProjects/chatbot-pysus/.venv/lib/python3.11/site-packages (from requests<3,>=2->langchain_community) (3.4.2)\r\n",
      "Requirement already satisfied: urllib3<3,>=1.21.1 in /home/maiconkevyn/PycharmProjects/chatbot-pysus/.venv/lib/python3.11/site-packages (from requests<3,>=2->langchain_community) (2.4.0)\r\n",
      "Requirement already satisfied: greenlet>=1 in /home/maiconkevyn/PycharmProjects/chatbot-pysus/.venv/lib/python3.11/site-packages (from SQLAlchemy<3,>=1.4->langchain_community) (3.2.2)\r\n",
      "Requirement already satisfied: mypy-extensions>=0.3.0 in /home/maiconkevyn/PycharmProjects/chatbot-pysus/.venv/lib/python3.11/site-packages (from typing-inspect<1,>=0.4.0->dataclasses-json<0.7,>=0.5.7->langchain_community) (1.1.0)\r\n",
      "Requirement already satisfied: sniffio>=1.1 in /home/maiconkevyn/PycharmProjects/chatbot-pysus/.venv/lib/python3.11/site-packages (from anyio->httpx<1,>=0.23.0->langsmith<0.4,>=0.1.125->langchain_community) (1.3.1)\r\n"
     ]
    }
   ],
   "execution_count": 1
  },
  {
   "metadata": {
    "ExecuteTime": {
     "end_time": "2025-05-29T12:16:13.977992Z",
     "start_time": "2025-05-29T12:16:13.199090Z"
    }
   },
   "cell_type": "code",
   "source": "!pip install -U transformers accelerate torch",
   "id": "df39423fb7fc4893",
   "outputs": [
    {
     "name": "stdout",
     "output_type": "stream",
     "text": [
      "/bin/bash: warning: setlocale: LC_ALL: cannot change locale (en_US.UTF-8)\r\n",
      "Requirement already satisfied: transformers in /home/maiconkevyn/PycharmProjects/chatbot-pysus/.venv/lib/python3.11/site-packages (4.52.3)\r\n",
      "Requirement already satisfied: accelerate in /home/maiconkevyn/PycharmProjects/chatbot-pysus/.venv/lib/python3.11/site-packages (1.7.0)\r\n",
      "Requirement already satisfied: torch in /home/maiconkevyn/PycharmProjects/chatbot-pysus/.venv/lib/python3.11/site-packages (2.7.0)\r\n",
      "Requirement already satisfied: filelock in /home/maiconkevyn/PycharmProjects/chatbot-pysus/.venv/lib/python3.11/site-packages (from transformers) (3.18.0)\r\n",
      "Requirement already satisfied: huggingface-hub<1.0,>=0.30.0 in /home/maiconkevyn/PycharmProjects/chatbot-pysus/.venv/lib/python3.11/site-packages (from transformers) (0.31.2)\r\n",
      "Requirement already satisfied: numpy>=1.17 in /home/maiconkevyn/PycharmProjects/chatbot-pysus/.venv/lib/python3.11/site-packages (from transformers) (2.2.5)\r\n",
      "Requirement already satisfied: packaging>=20.0 in /home/maiconkevyn/PycharmProjects/chatbot-pysus/.venv/lib/python3.11/site-packages (from transformers) (24.2)\r\n",
      "Requirement already satisfied: pyyaml>=5.1 in /home/maiconkevyn/PycharmProjects/chatbot-pysus/.venv/lib/python3.11/site-packages (from transformers) (6.0.2)\r\n",
      "Requirement already satisfied: regex!=2019.12.17 in /home/maiconkevyn/PycharmProjects/chatbot-pysus/.venv/lib/python3.11/site-packages (from transformers) (2024.11.6)\r\n",
      "Requirement already satisfied: requests in /home/maiconkevyn/PycharmProjects/chatbot-pysus/.venv/lib/python3.11/site-packages (from transformers) (2.32.3)\r\n",
      "Requirement already satisfied: tokenizers<0.22,>=0.21 in /home/maiconkevyn/PycharmProjects/chatbot-pysus/.venv/lib/python3.11/site-packages (from transformers) (0.21.1)\r\n",
      "Requirement already satisfied: safetensors>=0.4.3 in /home/maiconkevyn/PycharmProjects/chatbot-pysus/.venv/lib/python3.11/site-packages (from transformers) (0.5.3)\r\n",
      "Requirement already satisfied: tqdm>=4.27 in /home/maiconkevyn/PycharmProjects/chatbot-pysus/.venv/lib/python3.11/site-packages (from transformers) (4.67.1)\r\n",
      "Requirement already satisfied: fsspec>=2023.5.0 in /home/maiconkevyn/PycharmProjects/chatbot-pysus/.venv/lib/python3.11/site-packages (from huggingface-hub<1.0,>=0.30.0->transformers) (2025.3.2)\r\n",
      "Requirement already satisfied: typing-extensions>=3.7.4.3 in /home/maiconkevyn/PycharmProjects/chatbot-pysus/.venv/lib/python3.11/site-packages (from huggingface-hub<1.0,>=0.30.0->transformers) (4.13.2)\r\n",
      "Requirement already satisfied: psutil in /home/maiconkevyn/PycharmProjects/chatbot-pysus/.venv/lib/python3.11/site-packages (from accelerate) (7.0.0)\r\n",
      "Requirement already satisfied: sympy>=1.13.3 in /home/maiconkevyn/PycharmProjects/chatbot-pysus/.venv/lib/python3.11/site-packages (from torch) (1.14.0)\r\n",
      "Requirement already satisfied: networkx in /home/maiconkevyn/PycharmProjects/chatbot-pysus/.venv/lib/python3.11/site-packages (from torch) (3.4.2)\r\n",
      "Requirement already satisfied: jinja2 in /home/maiconkevyn/PycharmProjects/chatbot-pysus/.venv/lib/python3.11/site-packages (from torch) (3.1.6)\r\n",
      "Requirement already satisfied: nvidia-cuda-nvrtc-cu12==12.6.77 in /home/maiconkevyn/PycharmProjects/chatbot-pysus/.venv/lib/python3.11/site-packages (from torch) (12.6.77)\r\n",
      "Requirement already satisfied: nvidia-cuda-runtime-cu12==12.6.77 in /home/maiconkevyn/PycharmProjects/chatbot-pysus/.venv/lib/python3.11/site-packages (from torch) (12.6.77)\r\n",
      "Requirement already satisfied: nvidia-cuda-cupti-cu12==12.6.80 in /home/maiconkevyn/PycharmProjects/chatbot-pysus/.venv/lib/python3.11/site-packages (from torch) (12.6.80)\r\n",
      "Requirement already satisfied: nvidia-cudnn-cu12==9.5.1.17 in /home/maiconkevyn/PycharmProjects/chatbot-pysus/.venv/lib/python3.11/site-packages (from torch) (9.5.1.17)\r\n",
      "Requirement already satisfied: nvidia-cublas-cu12==12.6.4.1 in /home/maiconkevyn/PycharmProjects/chatbot-pysus/.venv/lib/python3.11/site-packages (from torch) (12.6.4.1)\r\n",
      "Requirement already satisfied: nvidia-cufft-cu12==11.3.0.4 in /home/maiconkevyn/PycharmProjects/chatbot-pysus/.venv/lib/python3.11/site-packages (from torch) (11.3.0.4)\r\n",
      "Requirement already satisfied: nvidia-curand-cu12==10.3.7.77 in /home/maiconkevyn/PycharmProjects/chatbot-pysus/.venv/lib/python3.11/site-packages (from torch) (10.3.7.77)\r\n",
      "Requirement already satisfied: nvidia-cusolver-cu12==11.7.1.2 in /home/maiconkevyn/PycharmProjects/chatbot-pysus/.venv/lib/python3.11/site-packages (from torch) (11.7.1.2)\r\n",
      "Requirement already satisfied: nvidia-cusparse-cu12==12.5.4.2 in /home/maiconkevyn/PycharmProjects/chatbot-pysus/.venv/lib/python3.11/site-packages (from torch) (12.5.4.2)\r\n",
      "Requirement already satisfied: nvidia-cusparselt-cu12==0.6.3 in /home/maiconkevyn/PycharmProjects/chatbot-pysus/.venv/lib/python3.11/site-packages (from torch) (0.6.3)\r\n",
      "Requirement already satisfied: nvidia-nccl-cu12==2.26.2 in /home/maiconkevyn/PycharmProjects/chatbot-pysus/.venv/lib/python3.11/site-packages (from torch) (2.26.2)\r\n",
      "Requirement already satisfied: nvidia-nvtx-cu12==12.6.77 in /home/maiconkevyn/PycharmProjects/chatbot-pysus/.venv/lib/python3.11/site-packages (from torch) (12.6.77)\r\n",
      "Requirement already satisfied: nvidia-nvjitlink-cu12==12.6.85 in /home/maiconkevyn/PycharmProjects/chatbot-pysus/.venv/lib/python3.11/site-packages (from torch) (12.6.85)\r\n",
      "Requirement already satisfied: nvidia-cufile-cu12==1.11.1.6 in /home/maiconkevyn/PycharmProjects/chatbot-pysus/.venv/lib/python3.11/site-packages (from torch) (1.11.1.6)\r\n",
      "Requirement already satisfied: triton==3.3.0 in /home/maiconkevyn/PycharmProjects/chatbot-pysus/.venv/lib/python3.11/site-packages (from torch) (3.3.0)\r\n",
      "Requirement already satisfied: setuptools>=40.8.0 in /home/maiconkevyn/PycharmProjects/chatbot-pysus/.venv/lib/python3.11/site-packages (from triton==3.3.0->torch) (78.1.0)\r\n",
      "Requirement already satisfied: mpmath<1.4,>=1.1.0 in /home/maiconkevyn/PycharmProjects/chatbot-pysus/.venv/lib/python3.11/site-packages (from sympy>=1.13.3->torch) (1.3.0)\r\n",
      "Requirement already satisfied: MarkupSafe>=2.0 in /home/maiconkevyn/PycharmProjects/chatbot-pysus/.venv/lib/python3.11/site-packages (from jinja2->torch) (3.0.2)\r\n",
      "Requirement already satisfied: charset-normalizer<4,>=2 in /home/maiconkevyn/PycharmProjects/chatbot-pysus/.venv/lib/python3.11/site-packages (from requests->transformers) (3.4.2)\r\n",
      "Requirement already satisfied: idna<4,>=2.5 in /home/maiconkevyn/PycharmProjects/chatbot-pysus/.venv/lib/python3.11/site-packages (from requests->transformers) (3.10)\r\n",
      "Requirement already satisfied: urllib3<3,>=1.21.1 in /home/maiconkevyn/PycharmProjects/chatbot-pysus/.venv/lib/python3.11/site-packages (from requests->transformers) (2.4.0)\r\n",
      "Requirement already satisfied: certifi>=2017.4.17 in /home/maiconkevyn/PycharmProjects/chatbot-pysus/.venv/lib/python3.11/site-packages (from requests->transformers) (2025.4.26)\r\n"
     ]
    }
   ],
   "execution_count": 2
  },
  {
   "metadata": {
    "ExecuteTime": {
     "end_time": "2025-05-29T12:16:14.638633Z",
     "start_time": "2025-05-29T12:16:13.985602Z"
    }
   },
   "cell_type": "code",
   "source": "!pip install -U bitsandbytes\n",
   "id": "7fbeaf0ec86bad47",
   "outputs": [
    {
     "name": "stdout",
     "output_type": "stream",
     "text": [
      "/bin/bash: warning: setlocale: LC_ALL: cannot change locale (en_US.UTF-8)\r\n",
      "Requirement already satisfied: bitsandbytes in /home/maiconkevyn/PycharmProjects/chatbot-pysus/.venv/lib/python3.11/site-packages (0.46.0)\r\n",
      "Requirement already satisfied: torch<3,>=2.2 in /home/maiconkevyn/PycharmProjects/chatbot-pysus/.venv/lib/python3.11/site-packages (from bitsandbytes) (2.7.0)\r\n",
      "Requirement already satisfied: numpy>=1.17 in /home/maiconkevyn/PycharmProjects/chatbot-pysus/.venv/lib/python3.11/site-packages (from bitsandbytes) (2.2.5)\r\n",
      "Requirement already satisfied: filelock in /home/maiconkevyn/PycharmProjects/chatbot-pysus/.venv/lib/python3.11/site-packages (from torch<3,>=2.2->bitsandbytes) (3.18.0)\r\n",
      "Requirement already satisfied: typing-extensions>=4.10.0 in /home/maiconkevyn/PycharmProjects/chatbot-pysus/.venv/lib/python3.11/site-packages (from torch<3,>=2.2->bitsandbytes) (4.13.2)\r\n",
      "Requirement already satisfied: sympy>=1.13.3 in /home/maiconkevyn/PycharmProjects/chatbot-pysus/.venv/lib/python3.11/site-packages (from torch<3,>=2.2->bitsandbytes) (1.14.0)\r\n",
      "Requirement already satisfied: networkx in /home/maiconkevyn/PycharmProjects/chatbot-pysus/.venv/lib/python3.11/site-packages (from torch<3,>=2.2->bitsandbytes) (3.4.2)\r\n",
      "Requirement already satisfied: jinja2 in /home/maiconkevyn/PycharmProjects/chatbot-pysus/.venv/lib/python3.11/site-packages (from torch<3,>=2.2->bitsandbytes) (3.1.6)\r\n",
      "Requirement already satisfied: fsspec in /home/maiconkevyn/PycharmProjects/chatbot-pysus/.venv/lib/python3.11/site-packages (from torch<3,>=2.2->bitsandbytes) (2025.3.2)\r\n",
      "Requirement already satisfied: nvidia-cuda-nvrtc-cu12==12.6.77 in /home/maiconkevyn/PycharmProjects/chatbot-pysus/.venv/lib/python3.11/site-packages (from torch<3,>=2.2->bitsandbytes) (12.6.77)\r\n",
      "Requirement already satisfied: nvidia-cuda-runtime-cu12==12.6.77 in /home/maiconkevyn/PycharmProjects/chatbot-pysus/.venv/lib/python3.11/site-packages (from torch<3,>=2.2->bitsandbytes) (12.6.77)\r\n",
      "Requirement already satisfied: nvidia-cuda-cupti-cu12==12.6.80 in /home/maiconkevyn/PycharmProjects/chatbot-pysus/.venv/lib/python3.11/site-packages (from torch<3,>=2.2->bitsandbytes) (12.6.80)\r\n",
      "Requirement already satisfied: nvidia-cudnn-cu12==9.5.1.17 in /home/maiconkevyn/PycharmProjects/chatbot-pysus/.venv/lib/python3.11/site-packages (from torch<3,>=2.2->bitsandbytes) (9.5.1.17)\r\n",
      "Requirement already satisfied: nvidia-cublas-cu12==12.6.4.1 in /home/maiconkevyn/PycharmProjects/chatbot-pysus/.venv/lib/python3.11/site-packages (from torch<3,>=2.2->bitsandbytes) (12.6.4.1)\r\n",
      "Requirement already satisfied: nvidia-cufft-cu12==11.3.0.4 in /home/maiconkevyn/PycharmProjects/chatbot-pysus/.venv/lib/python3.11/site-packages (from torch<3,>=2.2->bitsandbytes) (11.3.0.4)\r\n",
      "Requirement already satisfied: nvidia-curand-cu12==10.3.7.77 in /home/maiconkevyn/PycharmProjects/chatbot-pysus/.venv/lib/python3.11/site-packages (from torch<3,>=2.2->bitsandbytes) (10.3.7.77)\r\n",
      "Requirement already satisfied: nvidia-cusolver-cu12==11.7.1.2 in /home/maiconkevyn/PycharmProjects/chatbot-pysus/.venv/lib/python3.11/site-packages (from torch<3,>=2.2->bitsandbytes) (11.7.1.2)\r\n",
      "Requirement already satisfied: nvidia-cusparse-cu12==12.5.4.2 in /home/maiconkevyn/PycharmProjects/chatbot-pysus/.venv/lib/python3.11/site-packages (from torch<3,>=2.2->bitsandbytes) (12.5.4.2)\r\n",
      "Requirement already satisfied: nvidia-cusparselt-cu12==0.6.3 in /home/maiconkevyn/PycharmProjects/chatbot-pysus/.venv/lib/python3.11/site-packages (from torch<3,>=2.2->bitsandbytes) (0.6.3)\r\n",
      "Requirement already satisfied: nvidia-nccl-cu12==2.26.2 in /home/maiconkevyn/PycharmProjects/chatbot-pysus/.venv/lib/python3.11/site-packages (from torch<3,>=2.2->bitsandbytes) (2.26.2)\r\n",
      "Requirement already satisfied: nvidia-nvtx-cu12==12.6.77 in /home/maiconkevyn/PycharmProjects/chatbot-pysus/.venv/lib/python3.11/site-packages (from torch<3,>=2.2->bitsandbytes) (12.6.77)\r\n",
      "Requirement already satisfied: nvidia-nvjitlink-cu12==12.6.85 in /home/maiconkevyn/PycharmProjects/chatbot-pysus/.venv/lib/python3.11/site-packages (from torch<3,>=2.2->bitsandbytes) (12.6.85)\r\n",
      "Requirement already satisfied: nvidia-cufile-cu12==1.11.1.6 in /home/maiconkevyn/PycharmProjects/chatbot-pysus/.venv/lib/python3.11/site-packages (from torch<3,>=2.2->bitsandbytes) (1.11.1.6)\r\n",
      "Requirement already satisfied: triton==3.3.0 in /home/maiconkevyn/PycharmProjects/chatbot-pysus/.venv/lib/python3.11/site-packages (from torch<3,>=2.2->bitsandbytes) (3.3.0)\r\n",
      "Requirement already satisfied: setuptools>=40.8.0 in /home/maiconkevyn/PycharmProjects/chatbot-pysus/.venv/lib/python3.11/site-packages (from triton==3.3.0->torch<3,>=2.2->bitsandbytes) (78.1.0)\r\n",
      "Requirement already satisfied: mpmath<1.4,>=1.1.0 in /home/maiconkevyn/PycharmProjects/chatbot-pysus/.venv/lib/python3.11/site-packages (from sympy>=1.13.3->torch<3,>=2.2->bitsandbytes) (1.3.0)\r\n",
      "Requirement already satisfied: MarkupSafe>=2.0 in /home/maiconkevyn/PycharmProjects/chatbot-pysus/.venv/lib/python3.11/site-packages (from jinja2->torch<3,>=2.2->bitsandbytes) (3.0.2)\r\n"
     ]
    }
   ],
   "execution_count": 3
  },
  {
   "metadata": {
    "ExecuteTime": {
     "end_time": "2025-05-29T14:56:03.235642Z",
     "start_time": "2025-05-29T14:56:03.222371Z"
    }
   },
   "cell_type": "code",
   "source": [
    "from langchain_community.utilities import SQLDatabase\n",
    "\n",
    "db = SQLDatabase.from_uri(\"sqlite:///sus_data.db\")\n",
    "nome_tabela = \"dados_sus3\"\n"
   ],
   "id": "bfbf1cc0631ccfa0",
   "outputs": [],
   "execution_count": 3
  },
  {
   "metadata": {
    "ExecuteTime": {
     "end_time": "2025-05-29T12:16:14.846955Z",
     "start_time": "2025-05-29T12:16:14.843270Z"
    }
   },
   "cell_type": "code",
   "source": [
    "# informacao_tabela = db.get_table_info([nome_tabela])\n",
    "print(db.get_table_info([nome_tabela]))"
   ],
   "id": "1b4d7762d0f76de8",
   "outputs": [
    {
     "name": "stdout",
     "output_type": "stream",
     "text": [
      "\n",
      "CREATE TABLE dados_sus3 (\n",
      "\t\"DIAG_PRINC\" TEXT, \n",
      "\t\"MUNIC_RES\" BIGINT, \n",
      "\t\"MUNIC_MOV\" BIGINT, \n",
      "\t\"PROC_REA\" BIGINT, \n",
      "\t\"IDADE\" BIGINT, \n",
      "\t\"SEXO\" BIGINT, \n",
      "\t\"CID_MORTE\" TEXT, \n",
      "\t\"MORTE\" BIGINT, \n",
      "\t\"CNES\" BIGINT, \n",
      "\t\"VAL_TOT\" FLOAT, \n",
      "\t\"UTI_MES_TO\" BIGINT, \n",
      "\t\"DT_INTER\" BIGINT, \n",
      "\t\"DT_SAIDA\" BIGINT, \n",
      "\ttotal_ocorrencias BIGINT, \n",
      "\t\"UF_RESIDENCIA_PACIENTE\" TEXT, \n",
      "\t\"CIDADE_RESIDENCIA_PACIENTE\" TEXT, \n",
      "\t\"LATI_CIDADE_RES\" FLOAT, \n",
      "\t\"LONG_CIDADE_RES\" FLOAT\n",
      ")\n",
      "\n",
      "/*\n",
      "3 rows from dados_sus3 table:\n",
      "DIAG_PRINC\tMUNIC_RES\tMUNIC_MOV\tPROC_REA\tIDADE\tSEXO\tCID_MORTE\tMORTE\tCNES\tVAL_TOT\tUTI_MES_TO\tDT_INTER\tDT_SAIDA\ttotal_ocorrencias\tUF_RESIDENCIA_PACIENTE\tCIDADE_RESIDENCIA_PACIENTE\tLATI_CIDADE_RES\tLONG_CIDADE_RES\n",
      "A46 \t430300\t430300\t303080078\t67\t3\t0\t0\t2266474\t292.62\t0\t20170803\t20170808\t24485\tRio Grande do Sul\tSanta Maria\t-29.6860512\t-53.8069214\n",
      "C168\t430300\t430300\t304100021\t60\t1\t0\t0\t2266474\t797.11\t0\t20170803\t20170805\t24485\tRio Grande do Sul\tSanta Maria\t-29.6860512\t-53.8069214\n",
      "J128\t430300\t430300\t303140151\t76\t3\t0\t1\t2266474\t4987.52\t8\t20170726\t20170803\t24485\tRio Grande do Sul\tSanta Maria\t-29.6860512\t-53.8069214\n",
      "*/\n"
     ]
    }
   ],
   "execution_count": 5
  },
  {
   "metadata": {
    "ExecuteTime": {
     "end_time": "2025-05-29T12:16:14.895371Z",
     "start_time": "2025-05-29T12:16:14.890903Z"
    }
   },
   "cell_type": "code",
   "source": [
    "query = f\"SELECT CIDADE_RESIDENCIA_PACIENTE FROM {nome_tabela} LIMIT 5;\"\n",
    "resultados = db.run(query)\n",
    "resultados"
   ],
   "id": "ad5156a9fe6fdddc",
   "outputs": [
    {
     "data": {
      "text/plain": [
       "\"[('Santa Maria',), ('Santa Maria',), ('Santa Maria',), ('Santa Maria',), ('Santa Maria',)]\""
      ]
     },
     "execution_count": 6,
     "metadata": {},
     "output_type": "execute_result"
    }
   ],
   "execution_count": 6
  },
  {
   "metadata": {},
   "cell_type": "markdown",
   "source": "# LLM Config",
   "id": "92d055b9debc790c"
  },
  {
   "metadata": {
    "ExecuteTime": {
     "end_time": "2025-05-29T12:16:18.211516Z",
     "start_time": "2025-05-29T12:16:14.939786Z"
    }
   },
   "cell_type": "code",
   "source": [
    "try:\n",
    "    from llm_config import carregar_llm_langchain # Tenta importar a função\n",
    "except ImportError as e:\n",
    "    print(f\"ERRO: Não foi possível importar 'carregar_llm_langchain' de llm_config.py: {e}\")\n",
    "    print(\"Certifique-se de que 'llm_config.py' está no mesmo diretório ou no PYTHONPATH.\")\n",
    "    # Define como None para que as próximas células possam verificar e não dar erro imediato.\n",
    "    carregar_llm_langchain = None"
   ],
   "id": "722e2d1d7ff06aad",
   "outputs": [
    {
     "name": "stderr",
     "output_type": "stream",
     "text": [
      "/home/maiconkevyn/PycharmProjects/chatbot-pysus/.venv/lib/python3.11/site-packages/tqdm/auto.py:21: TqdmWarning: IProgress not found. Please update jupyter and ipywidgets. See https://ipywidgets.readthedocs.io/en/stable/user_install.html\n",
      "  from .autonotebook import tqdm as notebook_tqdm\n"
     ]
    }
   ],
   "execution_count": 7
  },
  {
   "metadata": {
    "ExecuteTime": {
     "end_time": "2025-05-29T12:16:19.097864Z",
     "start_time": "2025-05-29T12:16:18.218482Z"
    }
   },
   "cell_type": "code",
   "source": [
    "llm_instance = None # Inicializa a variável\n",
    "\n",
    "if carregar_llm_langchain:\n",
    "    print(\"Iniciando o carregamento do LLM através do Langchain...\")\n",
    "    print(\"Este processo pode demorar um pouco, especialmente na primeira vez ou com modelos grandes.\")\n",
    "\n",
    "    # Você pode forçar o uso da CPU aqui se desejar, mudando para False,\n",
    "    # mas a função em llm_config.py já tenta GPU primeiro e faz fallback para CPU se necessário.\n",
    "    tentar_gpu = True\n",
    "\n",
    "    llm_instance = carregar_llm_langchain(use_gpu_if_available=tentar_gpu)\n",
    "else:\n",
    "    print(\"A função 'carregar_llm_langchain' não foi importada. Não é possível carregar o LLM.\")\n",
    "\n",
    "if llm_instance:\n",
    "    print(\"\\n✅ LLM carregado e configurado com sucesso através do Langchain!\")\n",
    "else:\n",
    "    print(\"\\n❌ Falha ao carregar e configurar o LLM.\")\n",
    "    print(\"   Verifique a saída do console/terminal onde o Jupyter Notebook foi iniciado para mensagens de erro detalhadas do 'llm_config.py'.\")\n",
    "    # Considere interromper aqui se o LLM não carregar para evitar erros nas células seguintes.\n",
    "    # raise RuntimeError(\"LLM não carregado. Verifique os logs.\")"
   ],
   "id": "c7cb7a9310c549e",
   "outputs": [
    {
     "name": "stdout",
     "output_type": "stream",
     "text": [
      "Iniciando o carregamento do LLM através do Langchain...\n",
      "Este processo pode demorar um pouco, especialmente na primeira vez ou com modelos grandes.\n",
      "Iniciando configuração do LLM via Langchain: defog/sqlcoder-7b-2\n",
      "Tentando configurar para GPU com quantização de 4 bits...\n",
      "CUDA parece estar funcional.\n",
      "Configurado para GPU com quantização.\n",
      "Carregando LLM com model_kwargs: {'trust_remote_code': True, 'quantization_config': BitsAndBytesConfig {\n",
      "  \"_load_in_4bit\": true,\n",
      "  \"_load_in_8bit\": false,\n",
      "  \"bnb_4bit_compute_dtype\": \"bfloat16\",\n",
      "  \"bnb_4bit_quant_storage\": \"uint8\",\n",
      "  \"bnb_4bit_quant_type\": \"nf4\",\n",
      "  \"bnb_4bit_use_double_quant\": true,\n",
      "  \"llm_int8_enable_fp32_cpu_offload\": false,\n",
      "  \"llm_int8_has_fp16_weight\": false,\n",
      "  \"llm_int8_skip_modules\": null,\n",
      "  \"llm_int8_threshold\": 6.0,\n",
      "  \"load_in_4bit\": true,\n",
      "  \"load_in_8bit\": false,\n",
      "  \"quant_method\": \"bitsandbytes\"\n",
      "}\n",
      ", 'torch_dtype': torch.bfloat16, 'device_map': 'auto'}\n",
      "Argumento 'device' para o pipeline (se aplicável): None\n",
      "Ocorreu um erro crítico ao carregar o LLM via Langchain: libcudart.so.11.0: cannot open shared object file: No such file or directory\n",
      "Este erro está relacionado à sua instalação do CUDA. Por favor, revise as etapas de diagnóstico do CUDA da mensagem anterior.\n",
      "\n",
      "❌ Falha ao carregar e configurar o LLM.\n",
      "   Verifique a saída do console/terminal onde o Jupyter Notebook foi iniciado para mensagens de erro detalhadas do 'llm_config.py'.\n"
     ]
    }
   ],
   "execution_count": 8
  },
  {
   "metadata": {
    "ExecuteTime": {
     "end_time": "2025-05-29T12:16:19.108717Z",
     "start_time": "2025-05-29T12:16:19.105723Z"
    }
   },
   "cell_type": "code",
   "source": [
    "if llm_instance:\n",
    "    # ==============================================================================\n",
    "    # IMPORTANTE: ESQUEMA DA TABELA 'dados_sus3'\n",
    "    # ==============================================================================\n",
    "    # O esquema abaixo é um EXEMPLO baseado nas colunas que você mencionou.\n",
    "    # Para MELHORES RESULTADOS, substitua este pela saída EXATA do comando\n",
    "    # `CREATE TABLE dados_sus3 ...` do seu banco de dados.\n",
    "    # Você pode obter isso usando o seguinte código em uma célula separada ou script:\n",
    "    #\n",
    "    # from langchain_community.utilities import SQLDatabase\n",
    "    # db_for_schema = SQLDatabase.from_uri(\"sqlite:///sus_data.db\")\n",
    "    # print(db_for_schema.get_table_info([\"dados_sus3\"])) # Copie o resultado aqui!\n",
    "    #\n",
    "    TABLE_SCHEMA = \"\"\"\n",
    "CREATE TABLE dados_sus3 (\n",
    "    DIAG_PRINC TEXT,       -- Diagnóstico principal\n",
    "    MUNIC_RES INTEGER,     -- Código do município de residência\n",
    "    MUNIC_MOV INTEGER,     -- Código do município de movimentação/ocorrência\n",
    "    PROC_REA TEXT,         -- Código do procedimento realizado\n",
    "    IDADE INTEGER,         -- Idade do paciente\n",
    "    SEXO TEXT,             -- Sexo do paciente (ex: 'MASCULINO', 'FEMININO', ou códigos)\n",
    "    CID_MORTE TEXT,        -- CID da causa básica do óbito\n",
    "    MORTE INTEGER,         -- Indicador de morte (ex: 1 para sim, 0 para não)\n",
    "    CNES INTEGER,          -- Cadastro Nacional de Estabelecimentos de Saúde\n",
    "    VAL_TOT REAL,          -- Valor total do procedimento/internação\n",
    "    UTI_MES_TO INTEGER,    -- Total de dias de UTI no mês (ou indicador)\n",
    "    DT_INTER TEXT,         -- Data da internação (formato YYYYMMDD ou similar como TEXT)\n",
    "    DT_SAIDA TEXT,         -- Data da saída (formato YYYYMMDD ou similar como TEXT)\n",
    "    total_ocorrencias INTEGER, -- Parece uma contagem pré-calculada, verifique se é relevante para queries ad-hoc\n",
    "    UF_RESIDENCIA_PACIENTE TEXT, -- Sigla da UF de residência\n",
    "    CIDADE_RESIDENCIA_PACIENTE TEXT, -- Nome da cidade de residência\n",
    "    LATI_CIDADE_RES REAL,  -- Latitude da cidade de residência\n",
    "    LONG_CIDADE_RES REAL   -- Longitude da cidade de residência\n",
    ");\n",
    "\"\"\"\n",
    "    print(\"Esquema da tabela definido.\")\n",
    "\n",
    "    # Template de prompt específico para o SQLCoder\n",
    "    PROMPT_TEMPLATE_SQLCODER = \"\"\"### Task\n",
    "    Generate a SQL query to answer the following question:\n",
    "    `{question}`\n",
    "\n",
    "    ### Database Schema\n",
    "    The query will run on a database with the following schema:\n",
    "    {schema}\n",
    "\n",
    "### SQL\n",
    "\"\"\" # O LLM deve gerar a query após esta linha \"### SQL\\n\"\n",
    "    print(\"Template do prompt definido.\")\n",
    "\n",
    "else:\n",
    "    print(\"LLM não carregado, pulando a definição de esquema e prompt.\")"
   ],
   "id": "33a34a499c1d1f2a",
   "outputs": [
    {
     "name": "stdout",
     "output_type": "stream",
     "text": [
      "LLM não carregado, pulando a definição de esquema e prompt.\n"
     ]
    }
   ],
   "execution_count": 9
  },
  {
   "metadata": {
    "ExecuteTime": {
     "end_time": "2025-05-29T12:16:19.156451Z",
     "start_time": "2025-05-29T12:16:19.152696Z"
    }
   },
   "cell_type": "code",
   "source": [
    "def gerar_sql_com_llm_langchain(llm, pergunta, schema_tabela):\n",
    "    \"\"\"Gera SQL usando a instância LLM do Langchain.\"\"\"\n",
    "\n",
    "    prompt_completo = PROMPT_TEMPLATE.format(question=pergunta, schema=schema_tabela)\n",
    "\n",
    "    print(\"Gerando SQL com LLM Langchain...\")\n",
    "    try:\n",
    "        # Usamos o método invoke para Langchain LLMs\n",
    "        resposta_llm = llm.invoke(prompt_completo)\n",
    "\n",
    "        # Limpeza básica da saída (SQLCoder pode incluir ```sql ... ``` ou o próprio prompt)\n",
    "        # A resposta do HuggingFacePipeline pode incluir o prompt original, precisamos remover.\n",
    "        # Ou, se o pipeline for configurado corretamente, só a parte gerada.\n",
    "        # A saída de invoke() no HuggingFacePipeline geralmente é a string completa (prompt + gerado)\n",
    "        # Se o prompt estiver no início da resposta, precisamos removê-lo.\n",
    "        # No entanto, a implementação padrão para text-generation já pode estar retornando só o texto gerado.\n",
    "        # Se não, uma forma de pegar só o gerado:\n",
    "        # if resposta_llm.startswith(prompt_completo.strip()): # Verifica se o prompt está no início\n",
    "        #    generated_sql = resposta_llm[len(prompt_completo.strip()):].strip()\n",
    "        # else: # Assume que é só o gerado ou precisa de outra lógica\n",
    "        #    generated_sql = resposta_llm.strip()\n",
    "\n",
    "        # O mais comum é que ele retorne apenas a completação.\n",
    "        generated_sql = resposta_llm.strip()\n",
    "\n",
    "        if \"```sql\" in generated_sql:\n",
    "            generated_sql = generated_sql.split(\"```sql\")[1].split(\"```\")[0].strip()\n",
    "        elif \"```\" in generated_sql: # Caso mais genérico de markdown block\n",
    "             # Pega o que está dentro do primeiro bloco ```. Cuidado se houver múltiplos.\n",
    "            parts = generated_sql.split(\"```\")\n",
    "            if len(parts) > 1:\n",
    "                generated_sql = parts[1].strip() # Assume que o SQL é o primeiro bloco\n",
    "                if generated_sql.startswith(\"sql\"): # Remove o marcador 'sql' se presente\n",
    "                    generated_sql = generated_sql[3:].strip()\n",
    "\n",
    "\n",
    "        return generated_sql.strip()\n",
    "\n",
    "    except Exception as e:\n",
    "        print(f\"Erro durante a invocação do LLM: {e}\")\n",
    "        return f\"-- Erro ao gerar SQL: {e}\""
   ],
   "id": "d09683ad3f2ec3e4",
   "outputs": [],
   "execution_count": 10
  },
  {
   "metadata": {
    "ExecuteTime": {
     "end_time": "2025-05-29T12:16:19.971338Z",
     "start_time": "2025-05-29T12:16:19.198942Z"
    }
   },
   "cell_type": "code",
   "source": [
    "if __name__ == \"__main__\":\n",
    "    print(\"--- Teste de Geração Text-to-SQL com LLM carregado via Langchain ---\")\n",
    "    # Tenta usar GPU, com fallback para CPU se houver erro de CUDA\n",
    "    llm = carregar_llm_langchain(use_gpu_if_available=True)\n",
    "\n",
    "    if llm:\n",
    "        perguntas = [\n",
    "            \"Quantas ocorrências de morte existem?\",\n",
    "            \"Qual a idade média dos pacientes que tiveram morte registrada como 1?\",\n",
    "            \"Liste as 3 UF de residência com maior número de ocorrências totais.\"\n",
    "        ]\n",
    "\n",
    "        for i, pergunta_natural in enumerate(perguntas):\n",
    "            print(f\"\\n--- Pergunta {i+1} ---\")\n",
    "            print(f\"Linguagem Natural: {pergunta_natural}\")\n",
    "\n",
    "            sql_gerado = gerar_sql_com_llm_langchain(llm, pergunta_natural, TABLE_SCHEMA)\n",
    "\n",
    "            print(\"\\nSQL Gerado:\")\n",
    "            print(sql_gerado)\n",
    "            print(\"-\" * 30)\n",
    "    else:\n",
    "        print(\"\\nFalha: Não foi possível testar a geração de SQL pois o LLM Langchain não carregou.\")"
   ],
   "id": "60071dc3fbeb5d73",
   "outputs": [
    {
     "name": "stdout",
     "output_type": "stream",
     "text": [
      "--- Teste de Geração Text-to-SQL com LLM carregado via Langchain ---\n",
      "Iniciando configuração do LLM via Langchain: defog/sqlcoder-7b-2\n",
      "Tentando configurar para GPU com quantização de 4 bits...\n",
      "CUDA parece estar funcional.\n",
      "Configurado para GPU com quantização.\n",
      "Carregando LLM com model_kwargs: {'trust_remote_code': True, 'quantization_config': BitsAndBytesConfig {\n",
      "  \"_load_in_4bit\": true,\n",
      "  \"_load_in_8bit\": false,\n",
      "  \"bnb_4bit_compute_dtype\": \"bfloat16\",\n",
      "  \"bnb_4bit_quant_storage\": \"uint8\",\n",
      "  \"bnb_4bit_quant_type\": \"nf4\",\n",
      "  \"bnb_4bit_use_double_quant\": true,\n",
      "  \"llm_int8_enable_fp32_cpu_offload\": false,\n",
      "  \"llm_int8_has_fp16_weight\": false,\n",
      "  \"llm_int8_skip_modules\": null,\n",
      "  \"llm_int8_threshold\": 6.0,\n",
      "  \"load_in_4bit\": true,\n",
      "  \"load_in_8bit\": false,\n",
      "  \"quant_method\": \"bitsandbytes\"\n",
      "}\n",
      ", 'torch_dtype': torch.bfloat16, 'device_map': 'auto'}\n",
      "Argumento 'device' para o pipeline (se aplicável): None\n",
      "Ocorreu um erro crítico ao carregar o LLM via Langchain: libcudart.so.11.0: cannot open shared object file: No such file or directory\n",
      "Este erro está relacionado à sua instalação do CUDA. Por favor, revise as etapas de diagnóstico do CUDA da mensagem anterior.\n",
      "\n",
      "Falha: Não foi possível testar a geração de SQL pois o LLM Langchain não carregou.\n"
     ]
    }
   ],
   "execution_count": 11
  },
  {
   "metadata": {
    "ExecuteTime": {
     "end_time": "2025-05-29T12:16:19.981617Z",
     "start_time": "2025-05-29T12:16:19.980230Z"
    }
   },
   "cell_type": "code",
   "source": "",
   "id": "7a7e10ab6c2f6d98",
   "outputs": [],
   "execution_count": null
  }
 ],
 "metadata": {
  "kernelspec": {
   "display_name": "Python 3",
   "language": "python",
   "name": "python3"
  },
  "language_info": {
   "codemirror_mode": {
    "name": "ipython",
    "version": 2
   },
   "file_extension": ".py",
   "mimetype": "text/x-python",
   "name": "python",
   "nbconvert_exporter": "python",
   "pygments_lexer": "ipython2",
   "version": "2.7.6"
  }
 },
 "nbformat": 4,
 "nbformat_minor": 5
}
